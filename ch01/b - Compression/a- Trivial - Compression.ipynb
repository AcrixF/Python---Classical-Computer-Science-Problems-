{
 "cells": [
  {
   "cell_type": "code",
   "execution_count": 1,
   "metadata": {},
   "outputs": [],
   "source": [
    "class CompressedGene:\n",
    "    def __init__(self, gene: str) -> None:\n",
    "        self._compress(gene)\n",
    "        \n",
    "    def _compress(self, gene: str) -> None:\n",
    "        self.bit_string: int = 1;\n",
    "        for nucleotide in gene.upper():\n",
    "            self.bit_string <<= 2; ## shift left two bits\n",
    "            if nucleotide == \"A\":\n",
    "                self.bit_string |= 0b00;\n",
    "            elif nucleotide == \"C\":\n",
    "                self.bit_string |= 0b01;\n",
    "            elif nucleotide == \"G\":\n",
    "                self.bit_string |= 0b10;\n",
    "            elif nucleotide == \"T\":\n",
    "                self.bit_string = self.bit_string | 0b11;\n",
    "            else:\n",
    "                raise ValueError(\"Invalid Nucleotide:{}\".format(nucleotide))\n",
    "                \n",
    "    def decompress(self) -> str:\n",
    "        gene: str = \"\";\n",
    "        for i in range(0, self.bit_string.bit_length() - 1, 2):\n",
    "            bits: int = self.bit_string >> i & 0b11;\n",
    "            if bits == 0b00:\n",
    "                gene += \"A\";\n",
    "            elif bits == 0b01:\n",
    "                gene += \"C\";\n",
    "            elif bits == 0b10:\n",
    "                gene += \"G\";\n",
    "            elif bits == 0b11:\n",
    "                gene += \"T\";\n",
    "            else:\n",
    "                raise ValueError(\"Invalid bits:{}\".format(bits))\n",
    "      \n",
    "            \n",
    "        return gene[::-1] # reverses string by slicing backward\n",
    "    \n",
    "    def __str__(self) -> str:\n",
    "        return self.decompress()"
   ]
  },
  {
   "cell_type": "code",
   "execution_count": 3,
   "metadata": {},
   "outputs": [
    {
     "name": "stdout",
     "output_type": "stream",
     "text": [
      "Original is 8649 bytes\n",
      "Compresses is 2320 bytes\n",
      "original and decompressed are the same: True\n"
     ]
    }
   ],
   "source": [
    "if __name__ == \"__main__\":\n",
    "    from sys import getsizeof;\n",
    "    original: str = \"TAGGGATTAACCGTTATATATATATAGCCATGGATCGATTATATAGGGATTAACCGTTATATATATATAGCCATGGATCGATTATA\" * 100;\n",
    "    print(\"Original is {} bytes\".format(getsizeof(original)))\n",
    "    compressed: CompressedGene = CompressedGene(original)\n",
    "    print(\"Compresses is {} bytes\".format(getsizeof(compressed.bit_string)))\n",
    "    ##print(compressed.bit_string)\n",
    "    print(\"original and decompressed are the same: {}\".format(original == compressed.decompress()))\n",
    "    "
   ]
  },
  {
   "cell_type": "code",
   "execution_count": null,
   "metadata": {},
   "outputs": [],
   "source": []
  }
 ],
 "metadata": {
  "kernelspec": {
   "display_name": "Python 3",
   "language": "python",
   "name": "python3"
  },
  "language_info": {
   "codemirror_mode": {
    "name": "ipython",
    "version": 3
   },
   "file_extension": ".py",
   "mimetype": "text/x-python",
   "name": "python",
   "nbconvert_exporter": "python",
   "pygments_lexer": "ipython3",
   "version": "3.7.3"
  }
 },
 "nbformat": 4,
 "nbformat_minor": 4
}
