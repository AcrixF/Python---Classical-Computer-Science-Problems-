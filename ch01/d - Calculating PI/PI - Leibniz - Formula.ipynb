{
 "cells": [
  {
   "cell_type": "code",
   "execution_count": 9,
   "metadata": {},
   "outputs": [],
   "source": [
    "## Leibniz Formula pi = (4/1) - (4/3) + (4/5) - (4/7) + (4/9) - (4/11)...\n",
    "\n",
    "def calculate_pi(n_terms: int) -> float:\n",
    "    numerator: float = 4.0;\n",
    "    denominator: float = 1.0;\n",
    "    operation: float = 1.0;\n",
    "    pi: float = 0.0;\n",
    "    for _ in range(n_terms):\n",
    "        pi += operation * (numerator / denominator);\n",
    "        denominator += 2;\n",
    "        operation *= -1;\n",
    "    return pi;"
   ]
  },
  {
   "cell_type": "code",
   "execution_count": 10,
   "metadata": {},
   "outputs": [
    {
     "name": "stdout",
     "output_type": "stream",
     "text": [
      "3.0418396189294032\n"
     ]
    }
   ],
   "source": [
    "if __name__ == \"__main__\":\n",
    "    print(calculate_pi(10));"
   ]
  },
  {
   "cell_type": "code",
   "execution_count": null,
   "metadata": {},
   "outputs": [],
   "source": []
  }
 ],
 "metadata": {
  "kernelspec": {
   "display_name": "Python 3",
   "language": "python",
   "name": "python3"
  },
  "language_info": {
   "codemirror_mode": {
    "name": "ipython",
    "version": 3
   },
   "file_extension": ".py",
   "mimetype": "text/x-python",
   "name": "python",
   "nbconvert_exporter": "python",
   "pygments_lexer": "ipython3",
   "version": "3.7.3"
  }
 },
 "nbformat": 4,
 "nbformat_minor": 4
}
