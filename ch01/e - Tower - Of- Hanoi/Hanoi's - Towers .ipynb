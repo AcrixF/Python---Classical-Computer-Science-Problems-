{
 "cells": [
  {
   "cell_type": "code",
   "execution_count": 6,
   "metadata": {},
   "outputs": [
    {
     "name": "stdout",
     "output_type": "stream",
     "text": [
      "[1, 2, 3, 4, 5, 6, 7, 8, 9, 10]\n",
      "[]\n",
      "[1, 2, 3, 4, 5, 6, 7, 8, 9, 10]\n",
      "[]\n"
     ]
    }
   ],
   "source": [
    "from typing import TypeVar, Generic, List\n",
    "T = TypeVar('T');\n",
    "\n",
    "class Stack(Generic[T]):\n",
    "    def __init__(self) -> None: \n",
    "        self._container: List[T] = [];\n",
    "    \n",
    "    def push(self, item: T) -> None:\n",
    "        self._container.append(item);\n",
    "    \n",
    "    def pop(self) -> T: \n",
    "        return self._container.pop();\n",
    "    \n",
    "    def __repr__(self) -> str: \n",
    "        return repr(self._container);\n",
    "    \n",
    "num_disc: int = 10;\n",
    "tower_a: Stack[int] = Stack();\n",
    "tower_b: Stack[int] = Stack();\n",
    "tower_c: Stack[int] = Stack();\n",
    "    \n",
    "for i in range(1, num_disc + 1):\n",
    "    tower_a.push(i);\n",
    "    \n",
    "def hanoi(begin: Stack[int], end: Stack[int], temp: Stack[int], n: int) -> None:\n",
    "    if n == 1:\n",
    "        end.push(begin.pop());\n",
    "    else: \n",
    "        hanoi(begin, temp, end, n - 1);\n",
    "        hanoi(begin, end, temp, 1);\n",
    "        hanoi(temp, end, begin, n -1);\n",
    "\n",
    "if __name__ == \"__main__\":\n",
    "    hanoi(tower_a, tower_b, tower_c, num_disc);\n",
    "    print(tower_a);\n",
    "    print(tower_b);\n",
    "    print(tower_c)\n",
    "    "
   ]
  },
  {
   "cell_type": "code",
   "execution_count": null,
   "metadata": {},
   "outputs": [],
   "source": []
  }
 ],
 "metadata": {
  "kernelspec": {
   "display_name": "Python 3",
   "language": "python",
   "name": "python3"
  },
  "language_info": {
   "codemirror_mode": {
    "name": "ipython",
    "version": 3
   },
   "file_extension": ".py",
   "mimetype": "text/x-python",
   "name": "python",
   "nbconvert_exporter": "python",
   "pygments_lexer": "ipython3",
   "version": "3.7.3"
  }
 },
 "nbformat": 4,
 "nbformat_minor": 4
}
