{
 "cells": [
  {
   "cell_type": "markdown",
   "metadata": {},
   "source": [
    "# Built-in Types"
   ]
  },
  {
   "cell_type": "code",
   "execution_count": 1,
   "metadata": {},
   "outputs": [],
   "source": [
    " from typing import List, Set, Dict, Tuple, Optional"
   ]
  },
  {
   "cell_type": "code",
   "execution_count": 3,
   "metadata": {},
   "outputs": [
    {
     "name": "stdout",
     "output_type": "stream",
     "text": [
      "1\n",
      "1.0\n",
      "True\n",
      "TEST\n",
      "b'test'\n"
     ]
    }
   ],
   "source": [
    "x: int = 1;\n",
    "print(x);\n",
    "\n",
    "x: float = 1.0;\n",
    "print(x);\n",
    "\n",
    "x: bool = True;\n",
    "print(x);\n",
    "\n",
    "x: str = \"TEST\";\n",
    "print(x);\n",
    "\n",
    "x: bytes = b\"test\";\n",
    "print(x);"
   ]
  },
  {
   "cell_type": "markdown",
   "metadata": {},
   "source": [
    "# For collections "
   ]
  },
  {
   "cell_type": "code",
   "execution_count": 5,
   "metadata": {},
   "outputs": [
    {
     "name": "stdout",
     "output_type": "stream",
     "text": [
      "[1]\n",
      "{'field': 2.0, 'field_two': 3.0}\n",
      "(3, 'yes', 7.5)\n"
     ]
    }
   ],
   "source": [
    "x: List[int] = [1];\n",
    "print(x);\n",
    "\n",
    "x: Dict[str, float] = { 'field': 2.0, 'field_two': 3.0};\n",
    "print(x);\n",
    "\n",
    "x: Tuple[int, str, float] = (3, \"yes\", 7.5);\n",
    "print(x);"
   ]
  },
  {
   "cell_type": "code",
   "execution_count": 7,
   "metadata": {},
   "outputs": [
    {
     "name": "stdout",
     "output_type": "stream",
     "text": [
      "(1, 2.3, 3)\n"
     ]
    }
   ],
   "source": [
    "x: Tuple[int, ...] = (1,2.3, 3);\n",
    "print(x);"
   ]
  },
  {
   "cell_type": "code",
   "execution_count": null,
   "metadata": {},
   "outputs": [],
   "source": []
  }
 ],
 "metadata": {
  "kernelspec": {
   "display_name": "Python 3",
   "language": "python",
   "name": "python3"
  },
  "language_info": {
   "codemirror_mode": {
    "name": "ipython",
    "version": 3
   },
   "file_extension": ".py",
   "mimetype": "text/x-python",
   "name": "python",
   "nbconvert_exporter": "python",
   "pygments_lexer": "ipython3",
   "version": "3.7.3"
  }
 },
 "nbformat": 4,
 "nbformat_minor": 4
}
